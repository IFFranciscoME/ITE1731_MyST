{
 "cells": [
  {
   "cell_type": "code",
   "execution_count": null,
   "metadata": {},
   "outputs": [],
   "source": [
    "import pandas as pd\n",
    "import funciones as fn\n",
    "import datos as dt\n",
    "\n",
    "oa_in = \"USD_MXN\"  # Instrumento\n",
    "oa_gn = \"M1\"       # Granularidad de velas (M1: Minuto, M5: 5 Minutos, M15: 15 Minutos)\n",
    "fini = pd.to_datetime(\"2019-01-01 00:00:00\").tz_localize('GMT')  # Fecha inicial\n",
    "ffin = pd.to_datetime(\"2020-01-03 00:00:00\").tz_localize('GMT')  # Fecha final\n",
    "\n",
    "precios = fn.f_precios_masivos(p0_fini=fini, p1_ffin=ffin, p2_gran=oa_gn,\n",
    "                               p3_inst=oa_in, p4_oatk=dt.oa_token, p5_ginc=4900)"
   ]
  },
  {
   "cell_type": "code",
   "execution_count": null,
   "metadata": {},
   "outputs": [],
   "source": [
    "precios.head()"
   ]
  }
 ],
 "metadata": {
  "kernelspec": {
   "display_name": "Python 3",
   "language": "python",
   "name": "python3"
  },
  "language_info": {
   "codemirror_mode": {
    "name": "ipython",
    "version": 3
   },
   "file_extension": ".py",
   "mimetype": "text/x-python",
   "name": "python",
   "nbconvert_exporter": "python",
   "pygments_lexer": "ipython3",
   "version": "3.6.9"
  }
 },
 "nbformat": 4,
 "nbformat_minor": 2
}
