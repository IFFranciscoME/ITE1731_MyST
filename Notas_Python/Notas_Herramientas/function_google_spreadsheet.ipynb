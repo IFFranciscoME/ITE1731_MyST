{
 "cells": [
  {
   "cell_type": "markdown",
   "metadata": {},
   "source": [
    "<font color= #004A94> <font size = 3> Notas Python | Herramientas </font> <br> <br>"
   ]
  },
  {
   "cell_type": "markdown",
   "metadata": {},
   "source": [
    "<img src=\"http://oci02.img.iteso.mx/identidad_de_instancia_2018/ITESO/Logos%20ITESO/Logo-ITESO-Principal.jpg\">"
   ]
  },
  {
   "cell_type": "markdown",
   "metadata": {},
   "source": [
    "---"
   ]
  },
  {
   "cell_type": "markdown",
   "metadata": {},
   "source": [
    "<center> <font color= #004A94> <font size = 5> INGENIERÍA FINANCIERA | ITESO </font> <br> <br>"
   ]
  },
  {
   "cell_type": "markdown",
   "metadata": {},
   "source": [
    "<center> <font color= #004A94> <font size = 6> Microestructura y Sistemas de Trading </font> <br> <br>"
   ]
  },
  {
   "cell_type": "markdown",
   "metadata": {},
   "source": [
    "<center> <font color=#42c29b><font size=5> Read/Write Google Spreadsheets with Python <br> </font> <br> <br>"
   ]
  },
  {
   "cell_type": "markdown",
   "metadata": {},
   "source": [
    "<center> <font color=#004A94><font size=4> franciscome@iteso.mx </font> <br> <br>"
   ]
  },
  {
   "cell_type": "markdown",
   "metadata": {},
   "source": [
    "---"
   ]
  },
  {
   "cell_type": "markdown",
   "metadata": {},
   "source": [
    "<font color= #6B6B6B> <font size = 6> Abstract </font>"
   ]
  },
  {
   "cell_type": "markdown",
   "metadata": {},
   "source": [
    "This notebook consists in showing how a function can be constructed to read and write a google spreadsheet, using the gspread and oauth2client libraries. Other libraries for support are stated in the *requirements.txt* file"
   ]
  },
  {
   "cell_type": "markdown",
   "metadata": {},
   "source": [
    "<font color= #6B6B6B> <font size = 5> requirements.txt </font>"
   ]
  },
  {
   "cell_type": "markdown",
   "metadata": {},
   "source": [
    "- oauth2client==4.1.3\n",
    "- gspread==3.6.0\n",
    "- pandas==1.0.3\n",
    "- numpy>=1.18.4"
   ]
  },
  {
   "cell_type": "markdown",
   "metadata": {},
   "source": [
    "which for this sproject needs to be installed with the following instructiong typed in terminal:"
   ]
  },
  {
   "cell_type": "markdown",
   "metadata": {},
   "source": [
    "`pip install -r requirements.txt`"
   ]
  },
  {
   "cell_type": "markdown",
   "metadata": {},
   "source": [
    "---"
   ]
  },
  {
   "cell_type": "markdown",
   "metadata": {},
   "source": [
    "<font color= #6B6B6B> <font size = 6> Previous Steps </font>"
   ]
  },
  {
   "cell_type": "markdown",
   "metadata": {},
   "source": [
    "---"
   ]
  },
  {
   "cell_type": "markdown",
   "metadata": {},
   "source": [
    "<font color= #6B6B6B> <font size = 4> Reference </font>"
   ]
  },
  {
   "cell_type": "markdown",
   "metadata": {},
   "source": [
    "https://towardsdatascience.com/accessing-google-spreadsheet-data-using-python-90a5bc214fd2"
   ]
  },
  {
   "cell_type": "markdown",
   "metadata": {},
   "source": [
    "<br>"
   ]
  },
  {
   "cell_type": "markdown",
   "metadata": {},
   "source": [
    "<font color= #6B6B6B> <font size = 6> Code implementation </font>"
   ]
  },
  {
   "cell_type": "markdown",
   "metadata": {},
   "source": [
    "---"
   ]
  },
  {
   "cell_type": "markdown",
   "metadata": {},
   "source": [
    "<font color= #6B6B6B> <font size = 4> Import Libraries </font>"
   ]
  },
  {
   "cell_type": "code",
   "execution_count": null,
   "metadata": {},
   "outputs": [],
   "source": [
    "import numpy as np\n",
    "import pandas as pd\n",
    "import gspread\n",
    "from oauth2client.service_account import ServiceAccountCredentials"
   ]
  },
  {
   "cell_type": "markdown",
   "metadata": {},
   "source": [
    "<font color= #6B6B6B> <font size = 4> Function </font>"
   ]
  },
  {
   "cell_type": "code",
   "execution_count": null,
   "metadata": {},
   "outputs": [],
   "source": [
    "# -- ----------------------------------------------------------------- FUNCTION: Read Google SpreadSheet -- #\n",
    "# -- --------------------------------------------------------------------------------------------------- -- #\n",
    "\n",
    "def f_google_ss(p_credentials, p_file, p_spreadsheet, p_option, p_position, p_data=None):\n",
    "    \"\"\"\n",
    "\n",
    "    Function that receives a credential file (p_crendetials), and connects with google spreadsheets\n",
    "    (through the Google API, and reads a specific file (p_file) and a specific spreadsheet (p_spreadsheet)\n",
    "\n",
    "    Parameters\n",
    "    ----------\n",
    "    p_credentials : str : the file name and extension of the file with credentials\n",
    "    p_file : str : the name of the google spreadsheet file to be read\n",
    "    p_spreadsheet : str : the name of the sheet in the google spreadsheet file to be read\n",
    "    p_option : str : 'read' or 'write' option\n",
    "    p_data : pd.DataFrame : with the data to upload\n",
    "    p_position : str : cell location to start writing the data\n",
    "\n",
    "    Returns\n",
    "    -------\n",
    "    r_f_google_ss : str : dictionary with output elements\n",
    "\n",
    "    Debugging\n",
    "    ---------\n",
    "    p_credentials = 'credentials/mt4-spreadsheet.json'\n",
    "    p_file = 'Optimizacion_MetaQuotes'\n",
    "    p_spreadsheet = 'Resultados_bt'\n",
    "    p_option = 'write'\n",
    "    p_data = df_f_data\n",
    "    p_position = 'D4'\n",
    "\n",
    "    \"\"\"\n",
    "\n",
    "    # list with scope urls\n",
    "    scope = ['https://spreadsheets.google.com/feeds', 'https://www.googleapis.com/auth/drive']\n",
    "    # specify file with credentials (downloaded from google)\n",
    "    creds = ServiceAccountCredentials.from_json_keyfile_name(p_credentials, scope)\n",
    "    # initialize cliente with credentials\n",
    "    client = gspread.authorize(creds)\n",
    "\n",
    "    # -- if p_option == 'read'\n",
    "\n",
    "    if p_option == 'read':\n",
    "        # read the desired file and a specific spreadsheet\n",
    "        backtest_file = client.open(p_file).worksheet(p_spreadsheet)\n",
    "        # extract data of interest\n",
    "        backtest_data = backtest_file.get_all_records()\n",
    "        # results for the output\n",
    "        r_f_google_ss = {'data': backtest_data}\n",
    "\n",
    "        return r_f_google_ss\n",
    "\n",
    "    # -- if p_option == 'write'\n",
    "\n",
    "    else:\n",
    "        # read the desired file and a specific spreadsheet\n",
    "        backtest_file = client.open(p_file).worksheet(p_spreadsheet)\n",
    "        # write entire dataframe\n",
    "        r_f_google_ss = {'data': backtest_file.update(p_position, [p_data.columns.values.tolist()] +\n",
    "                                                      p_data.values.tolist())}\n",
    "\n",
    "        return r_f_google_ss"
   ]
  },
  {
   "cell_type": "markdown",
   "metadata": {},
   "source": [
    "<font color= #6B6B6B> <font size = 4> Data for implementation </font>"
   ]
  },
  {
   "cell_type": "markdown",
   "metadata": {},
   "source": [
    "- **file name**: The spreadsheet file name that is located in the google drive that you want to read.\n",
    "- **spreadsheet name**: The sheet name.\n",
    "- **credentials file (JSON file)**: A file with the credentials."
   ]
  },
  {
   "cell_type": "code",
   "execution_count": null,
   "metadata": {},
   "outputs": [],
   "source": [
    "results = f_google_ss(p_credentials='credentials/mt4-spreadsheet.json',\n",
    "                      p_file='Trading_Strategy',\n",
    "                      p_spreadsheet='martingale_backtest', p_option='read', p_position=None)"
   ]
  },
  {
   "cell_type": "code",
   "execution_count": null,
   "metadata": {},
   "outputs": [],
   "source": [
    "df_results = pd.DataFrame(results['data'])\n",
    "df_results"
   ]
  }
 ],
 "metadata": {
  "kernelspec": {
   "display_name": "Python 3",
   "language": "python",
   "name": "python3"
  },
  "language_info": {
   "codemirror_mode": {
    "name": "ipython",
    "version": 3
   },
   "file_extension": ".py",
   "mimetype": "text/x-python",
   "name": "python",
   "nbconvert_exporter": "python",
   "pygments_lexer": "ipython3",
   "version": "3.8.2"
  }
 },
 "nbformat": 4,
 "nbformat_minor": 2
}
