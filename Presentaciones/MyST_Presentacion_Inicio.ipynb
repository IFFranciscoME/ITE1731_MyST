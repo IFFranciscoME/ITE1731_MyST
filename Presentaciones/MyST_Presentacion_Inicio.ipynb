{
 "cells": [
  {
   "cell_type": "markdown",
   "metadata": {
    "slideshow": {
     "slide_type": "slide"
    }
   },
   "source": [
    "<img src=\"http://oci02.img.iteso.mx/identidad_de_instancia_2018/ITESO/Logos%20ITESO/Logo-ITESO-Principal.jpg\">"
   ]
  },
  {
   "cell_type": "markdown",
   "metadata": {
    "slideshow": {
     "slide_type": "-"
    }
   },
   "source": [
    "<center> <font color= #004A94> <font size = 6> Microestructura y Sistemas de Trading </font> <br> <br> <font color= #047CFB> <font size = 5> Francisco Muñoz - franciscome@iteso.mx </font> <br> <br> <font color= grey> <font size = 3> Otoño 2020 </font>"
   ]
  },
  {
   "cell_type": "markdown",
   "metadata": {
    "slideshow": {
     "slide_type": "slide"
    }
   },
   "source": [
    "# Puntos a revisar\n",
    "\n",
    "0. Profesor.\n",
    "1. Justificación.\n",
    "2. Seriación.\n",
    "3. Dinámica de trabajo.\n",
    "4. Reglas y definiciones."
   ]
  },
  {
   "cell_type": "markdown",
   "metadata": {
    "slideshow": {
     "slide_type": "slide"
    }
   },
   "source": [
    "## Estudios\n",
    "<hr style=\"border:1px solid gray\"> </hr>\n",
    "\n",
    "1. Bachillerato Tecnológico en Electrónica y Comunicaciones (Ceti Colomos).\n",
    "2. IE, II, LAF, IF (2015).\n",
    "3. Msc Ciencia de datos.\n",
    "\n",
    "## Trabajos\n",
    "<hr style=\"border:1px solid gray\"> </hr>\n",
    "\n",
    "1. (pre-IF) Bancos, Aseguradoras, Industria Manufactura.\n",
    "2. (post-IF) Fondos de inversión privados, Startups FinTech, Gobierno, ITESO.\n",
    "\n",
    "## Posgrado\n",
    "<hr style=\"border:1px solid gray\"> </hr>\n",
    "\n",
    "1. Técnica de optimización de sistemas de trading.\n",
    "2. Clustering Subsecuencial de series de tiempo financieras.\n",
    "3. IteraCapital.ai\n",
    "4. Servicio Social - Economía Urbana + Emprendimiento social."
   ]
  },
  {
   "cell_type": "markdown",
   "metadata": {
    "slideshow": {
     "slide_type": "slide"
    }
   },
   "source": [
    "## Justificación de Materia\n",
    "<hr style=\"border:2px solid gray\"> </hr>\n",
    "\n",
    "1. **Justificación de Materia**\n",
    "2. Seriación\n",
    "3. Dinámica de trabajo\n",
    "4. Misceláneos"
   ]
  },
  {
   "cell_type": "markdown",
   "metadata": {
    "slideshow": {
     "slide_type": "subslide"
    }
   },
   "source": [
    "Podemos decir que los siguientes dos aspectos han sido característicos en lo que has aprendido.\n",
    "\n",
    "1. **La periodicidad de los precios** <br>\n",
    "Hasta ahora, los precios a los que les ajustas modelos son de periodicidades diaria, semanales y a veces mensuales. <br>\n",
    "\n",
    "2. **La dinámica de las inversiones** <br>\n",
    "Hasta ahora, Las estrategias de inversión que diseñas y optimizas son de portafolios de inversión estáticos (que no consideras rebalanceos dinámicos). <br>"
   ]
  },
  {
   "cell_type": "markdown",
   "metadata": {
    "slideshow": {
     "slide_type": "subslide"
    }
   },
   "source": [
    "Hagamos los siguientes cuestionamientos: <br>\n",
    "\n",
    "1. **La periodicidad de los precios** <br>\n",
    "¿Qué pasa en los mercados financieros en periodos intradía, como se comportan los precios cada hora, cada minuto, cada milisegundo?\n",
    "\n",
    "2. **La dinámica de las inversiones** <br>\n",
    "¿Diseñar, optimizar e inicializar un portafolio de inversión, es la única forma de invertir?, ¿Qué se hace en los ETFs, Afores y fondos de inversión para rebalancear las posiciones en un portafolio?. <br> <br>\n",
    "\n",
    "Para abordar lo anterior tenemos entonces que ..."
   ]
  },
  {
   "cell_type": "markdown",
   "metadata": {
    "slideshow": {
     "slide_type": "subslide"
    }
   },
   "source": [
    "## Proposito general\n",
    "\n",
    "Desarrollar un **Sistema de trading algorítmico**, como una solución al problema de la administración activa del capital. El sistema tiene como base técnicas de **Machine Learning**, considera la **Microestructura del mercado** y su justificación se genera a partir del análisis del trading discrecional mediante el uso de la ciencia **Behavioral Finance**.\n",
    "\n",
    "## Propósitos transversales\n",
    "\n",
    "- **Propósito 1**: Identificar las diferencias principales entre la administración activa y pasiva del capital.\n",
    "- **Propósito 2**: Identificar las características fundamentales del trading discrecional.\n",
    "- **Propósito 3**: Desarrollar códigos para identificar sesgos cognitivos en la toma de decisiones de trading.\n",
    "- **Propósito 4**: Visualizar y modelar la microestructura del mercado.\n",
    "- **Propósito 5**: Diseñar, programar e implementar un sistema de trading."
   ]
  },
  {
   "cell_type": "markdown",
   "metadata": {
    "slideshow": {
     "slide_type": "subslide"
    }
   },
   "source": [
    "## Módulos\n",
    "El curso está dividido en 5 módulos.\n",
    "\n",
    "- **Módulo 1**: Administración de capital. <br>\n",
    "Identificar las diferencias principales entre la administración activa y pasiva del capital.\n",
    "- **Módulo 2**: Trading Discrecional.<br>\n",
    "Identificar las características fundamentales del trading discrecional.\n",
    "- **Módulo 3**: Behavioral Finance.<br>\n",
    "Desarrollar códigos para identificar sesgos cognitivos en la toma de decisiones de trading.\n",
    "- **Módulo 4**: Microestructura del mercado.<br>\n",
    "Visualizar y modelar la microestructura del mercado.\n",
    "- **Módulo 5**: Sistemas de trading.<br>\n",
    "Diseñar, programar e implementar un sistema de trading."
   ]
  },
  {
   "cell_type": "markdown",
   "metadata": {
    "slideshow": {
     "slide_type": "slide"
    }
   },
   "source": [
    "# Seriación\n",
    "<hr style=\"border:2px solid gray\"> </hr>\n",
    "\n",
    "1. Justificación de Materia\n",
    "2. **Seriación**\n",
    "3. Dinámica de trabajo\n",
    "4. Misceláneos"
   ]
  },
  {
   "cell_type": "markdown",
   "metadata": {
    "slideshow": {
     "slide_type": "subslide"
    }
   },
   "source": [
    "Se recomienda cursarla una vez que se hayan cursado y aprobado:\n",
    "\n",
    "- Métodos de Inteligencia Artificial.\n",
    "- Seminario de Ingeniería Financiera.\n",
    "- Finanzas cuantitativas.\n",
    "\n",
    "Por seriación de conocimientos, de competencias, de herramientas y también *seriación de esfuerzo*."
   ]
  },
  {
   "cell_type": "markdown",
   "metadata": {
    "slideshow": {
     "slide_type": "subslide"
    }
   },
   "source": [
    "Las materias que debes de repasar y tener tus trabajos listos para consultar, durante el tiempo que tomas esta materia, son las siguientes:\n",
    "\n",
    "- Ciencia de Datos e Inteligencia de Negocios.\n",
    "- Análisis del Riesgo.\n",
    "- Series de Tiempo.\n",
    "- Simulación de Procesos Financieros.\n",
    "- Portafolios de Inversión."
   ]
  },
  {
   "cell_type": "markdown",
   "metadata": {
    "slideshow": {
     "slide_type": "slide"
    }
   },
   "source": [
    "# Dinámica de trabajo\n",
    "<hr style=\"border:2px solid gray\"> </hr>\n",
    "\n",
    "1. Justificación de Materia\n",
    "2. Seriación\n",
    "3. **Dinámica de trabajo**\n",
    "4. Misceláneos"
   ]
  },
  {
   "cell_type": "markdown",
   "metadata": {
    "slideshow": {
     "slide_type": "subslide"
    }
   },
   "source": [
    "**Cada módulo tendrá la siguiente estructura:**\n",
    "\n",
    "- *Profesor* Expone el tema teórico en clase (1 sesión).\n",
    "- *Profesor* Hace un taller de caso simple en clase (de 1 a 2 sesiones).\n",
    "- *Estudiante* Lee la lectura complementaria.\n",
    "- *Estudiante* Desarrolla laboratorio para caso avanzado.\n",
    "- *Estudiante* En caso de le toque, expone resultados a grupo.\n",
    "- *Estudiante* Contesta Quizz de módulo.\n",
    "- *Estudiante* Hace una reflexión final del módulo.\n",
    "\n",
    "**Se tendrá el siguiente material de apoyo:**\n",
    "\n",
    "- Diapositivas de introducción.\n",
    "- Notebook de taller.\n",
    "- Lecturas complementarias.\n",
    "\n",
    "**Además:**\n",
    "\n",
    "- El laboratoriose realiza individual o en equipo según se indique.\n",
    "- Laboratorios y Quizzes tienen fechas definidas.\n",
    "- Hay diferente dificultad entre módulos."
   ]
  },
  {
   "cell_type": "markdown",
   "metadata": {
    "slideshow": {
     "slide_type": "subslide"
    }
   },
   "source": [
    "## Módulo 1: Administración de capital.\n",
    "\n",
    "#### Propósito\n",
    "\n",
    "Distinguir y evaluar las diferencias entre la administración pasiva del capital (Índices) y la administración activa de capital (Rebalanceo dinámico).\n",
    "\n",
    "#### Duración\n",
    "\n",
    "- **Inicio** : Semana 1 \n",
    "- **Fin** : Semana 2\n",
    "- **Duración** : 2 semanas\n",
    "\n",
    "#### Temas\n",
    "\n",
    "- **Tema 1** : Medidas de atribución del desempeño.\n",
    "- **Tema 2** : Administración Pasiva.\n",
    "- **Tema 3** : Administración Activa.\n",
    "\n",
    "#### Actividades\n",
    "\n",
    "- Laboratorio 1 (Dificultad Fácil-Intermedio) **(Individual)**"
   ]
  },
  {
   "cell_type": "markdown",
   "metadata": {
    "slideshow": {
     "slide_type": "subslide"
    }
   },
   "source": [
    "## Módulo 2: Trading Discrecional.\n",
    "\n",
    "#### Propósito\n",
    "\n",
    "Identificar las características fundamentales del trading discrecional en el mercado internacional de divisas (Forex), utilizando CFDs de materias primas y tipos de cambio.\n",
    "\n",
    "#### Duración\n",
    "\n",
    "- **Inicio** : Semana 3 \n",
    "- **Fin** : Semana 4\n",
    "- **Duración** : 2 semanas\n",
    "\n",
    "#### Temas\n",
    "\n",
    "- **Tema 1** : Mercados OTC y plataformas de trading (OANDA).\n",
    "- **Tema 2** : Análisis técnico (chartista).\n",
    "- **Tema 3** : Análisis fundamental (calendario económico).\n",
    "\n",
    "#### Actividades\n",
    "\n",
    "- Laboratorio 2 (Dificultad Fácil) **(Individual)**"
   ]
  },
  {
   "cell_type": "markdown",
   "metadata": {
    "slideshow": {
     "slide_type": "subslide"
    }
   },
   "source": [
    "## Módulo 3: Behavioral Finance.\n",
    "\n",
    "#### Propósito\n",
    "\n",
    "Conocer la Teoría Prospectiva (Prospect Theory) aplicada a la toma de decisiones de inversión, desarrollar código para la identificación de sesgos cognitivos de traders discrecionales.\n",
    "\n",
    "#### Duración\n",
    "\n",
    "- **Inicio** : Semana 5 \n",
    "- **Fin** : Semana 7\n",
    "- **Duración** : 3 semanas\n",
    "\n",
    "#### Temas\n",
    "\n",
    "- **Tema 1** : Behavioral Economics.\n",
    "- **Tema 2** : Behavioral Finance.\n",
    "- **Tema 3** : Sesgos cognitivos del trader.\n",
    "\n",
    "#### Actividades\n",
    "\n",
    "- Laboratorio 3 (Dificultad Intermedio-Dificil) **(3 Integrantes Aleatorios)**"
   ]
  },
  {
   "cell_type": "markdown",
   "metadata": {
    "slideshow": {
     "slide_type": "subslide"
    }
   },
   "source": [
    "## Módulo 4: Microestructura del mercado.\n",
    "\n",
    "#### Propósito\n",
    "\n",
    "Conocer los conceptos básicos y dinámica de la microestructura del mercado, aplicarlos como fuente de información para análisis técnico y fundamental.\n",
    "\n",
    "#### Duración\n",
    "\n",
    "- **Inicio** : Semana 8\n",
    "- **Fin** : Semana 11\n",
    "- **Duración** : 4 semanas\n",
    "\n",
    "#### Temas\n",
    "\n",
    "- **Tema 1** : Conceptos y caracterización.\n",
    "- **Tema 2** : Modelación del libro de órdenes.\n",
    "- **Tema 3** : Libro de órdenes para Análisis Técnico.\n",
    "- **Tema 4** : Libro de órdenes para Análisis Fundamental.\n",
    "\n",
    "#### Actividades\n",
    "\n",
    "- Laboratorio 4 (Dificultad Intermedio-Dificil) **(3 Integrantes Aleatorios)**"
   ]
  },
  {
   "cell_type": "markdown",
   "metadata": {
    "slideshow": {
     "slide_type": "subslide"
    }
   },
   "source": [
    "## Módulo 5: Sistemas de Trading.\n",
    "\n",
    "#### Propósito\n",
    "\n",
    "Diseñar, programar e implementar un sistema de trading, utilizando la API de OANDA.\n",
    "\n",
    "#### Duración\n",
    "\n",
    "- **Inicio** : Semana 12\n",
    "- **Fin** : Semana 16\n",
    "- **Duración** : 4 semanas\n",
    "\n",
    "#### Temas\n",
    "\n",
    "- **Tema 1** : Machine Learning para Trading.\n",
    "- **Tema 2** : Arquitectura de sistemas de trading\n",
    "\n",
    "#### Actividades\n",
    "- Proyecto Final **(3 Integrantes Elección Libre)**"
   ]
  },
  {
   "cell_type": "markdown",
   "metadata": {
    "slideshow": {
     "slide_type": "subslide"
    }
   },
   "source": [
    "## Criterio de calificación\n",
    "\n",
    "Cuatro módulos (20 pts c/u) y un proyecto final (20 pts)\n",
    "\n",
    "Por cada módulo\n",
    "- 15 pts *Laboratorio* de módulo.\n",
    "- 5 pts *Quizz* de módulo.\n",
    "\n",
    "Por proyecto final\n",
    "- 20 pts\n",
    "\n",
    "Total\n",
    "- 80 pts Módulos.\n",
    "- 20 pts Proyecto Final."
   ]
  },
  {
   "cell_type": "markdown",
   "metadata": {
    "slideshow": {
     "slide_type": "slide"
    }
   },
   "source": [
    "# Misceláneos\n",
    "<hr style=\"border:2px solid gray\"> </hr>\n",
    "\n",
    "1. Justificación de Materia\n",
    "2. Seriación\n",
    "3. Dinámica de trabajo\n",
    "4. **Misceláneos**"
   ]
  },
  {
   "cell_type": "markdown",
   "metadata": {
    "slideshow": {
     "slide_type": "subslide"
    }
   },
   "source": [
    "## Diferencias entre PAP y Materia.\n",
    "\n",
    "<br>\n",
    "\n",
    "| Aspecto               | Materia                                  | PAP               |\n",
    "|-----------------------|------------------------------------------|-------------------|\n",
    "| Temas a cubrir        | Estandarizados y obligatorios            | 100% Libres       |\n",
    "| Dificultad y esfuerzo | Demandante (Depende de tu historia Acadm)| Tu lo eliges      |\n",
    "| Equipos o individual  | Distinción clara individual y en equipos | Mayormente libre  |\n",
    "| Dinamica de sesiones  | Previamente definidas                    | Mayormente libre  |\n",
    "| Asistencia            | Necesariamente tiene que nombrarse       | No hace falta     |\n",
    "\n",
    "<br>\n"
   ]
  },
  {
   "cell_type": "markdown",
   "metadata": {
    "slideshow": {
     "slide_type": "subslide"
    }
   },
   "source": [
    "## Estructura general de laboratorios.\n",
    "\n",
    "1. Siguen la estructura base de proyectos en python.\n",
    "2. Tiene un repositorio en GitHub.\n",
    "3. Se debe de actualizar el repositorio 2 veces por semana.\n",
    "4. El Notebook tiene texto + Comentarios en código + LaTeX para fórmulas.\n",
    "5. Exposición a grupo aleatoria.\n",
    "6. Presentación se hace en jupyter notebook slides."
   ]
  },
  {
   "cell_type": "markdown",
   "metadata": {
    "slideshow": {
     "slide_type": "subslide"
    }
   },
   "source": [
    "## Reglas básicas.\n",
    "\n",
    "1. **Se nombra lista a las 07:10am** <br>\n",
    "Aplica para virtual (usuario conectado) y cuando regresemos a clases presenciales.<br> <br>\n",
    "\n",
    "2. **No hay retardos** <br>\n",
    "Si a las 07:10:01, ya te pasé de nombrar, no significa que por 1 segundo \"te puse falta\", significa que ya llevas 10 minutos o más tarde a lo que tu te comprometiste llegar. <br> <br>\n",
    "\n",
    "3. **El redondeo es a criterio de profesor (ej: un 8.1 puede ser 9 y un 8.9 puede ser 8).** <br>\n",
    "No existe ninguna regla explícita en ITESO sobre este punto en específico y en el sistema de la SEP la escala es del 5 al 10, por lo tanto queda a criterio del profesor hacer la conversión. <br> <br>\n",
    "\n",
    "4. **Horario de asesorias (Martes 1pm a 2pm)** <br>\n",
    "Si no puedes estar, manda tus dudas con alguien mas, las sesiones serán grabadas y/o manda correo antes y te lo respondo durante ese espacio. <br> <br>"
   ]
  }
 ],
 "metadata": {
  "celltoolbar": "Slideshow",
  "kernelspec": {
   "display_name": "Python 3",
   "language": "python",
   "name": "python3"
  },
  "language_info": {
   "codemirror_mode": {
    "name": "ipython",
    "version": 3
   },
   "file_extension": ".py",
   "mimetype": "text/x-python",
   "name": "python",
   "nbconvert_exporter": "python",
   "pygments_lexer": "ipython3",
   "version": "3.8.2"
  }
 },
 "nbformat": 4,
 "nbformat_minor": 2
}
